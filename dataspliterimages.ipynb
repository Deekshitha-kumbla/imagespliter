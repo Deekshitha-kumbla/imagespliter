{
 "cells": [
  {
   "cell_type": "code",
   "execution_count": 2,
   "id": "0c0680d1",
   "metadata": {},
   "outputs": [
    {
     "name": "stdout",
     "output_type": "stream",
     "text": [
      "Collecting split-folders\n",
      "  Downloading split_folders-0.5.1-py3-none-any.whl (8.4 kB)\n",
      "Installing collected packages: split-folders\n",
      "Successfully installed split-folders-0.5.1\n",
      "Note: you may need to restart the kernel to use updated packages.\n"
     ]
    }
   ],
   "source": [
    "pip install split-folders"
   ]
  },
  {
   "cell_type": "code",
   "execution_count": 1,
   "id": "4b581900",
   "metadata": {},
   "outputs": [],
   "source": [
    "import splitfolders"
   ]
  },
  {
   "cell_type": "code",
   "execution_count": 2,
   "id": "e4255ae3",
   "metadata": {},
   "outputs": [],
   "source": [
    "input_folder ='D:/Individual_Trees_photos/newforseg1'"
   ]
  },
  {
   "cell_type": "code",
   "execution_count": 4,
   "id": "154798bf",
   "metadata": {},
   "outputs": [
    {
     "name": "stderr",
     "output_type": "stream",
     "text": [
      "\n",
      "Copying files: 0 files [00:00, ? files/s]\u001b[A\n",
      "Copying files: 1 files [00:00,  9.60 files/s]\u001b[A\n",
      "Copying files: 55 files [00:00, 313.92 files/s]\u001b[A\n",
      "Copying files: 108 files [00:00, 411.10 files/s]\u001b[A\n",
      "Copying files: 155 files [00:00, 432.92 files/s]\u001b[A\n",
      "Copying files: 199 files [00:00, 396.39 files/s]\u001b[A\n",
      "Copying files: 240 files [00:00, 260.71 files/s]\u001b[A\n",
      "Copying files: 272 files [00:00, 246.99 files/s]\u001b[A\n",
      "Copying files: 301 files [00:01, 218.29 files/s]\u001b[A\n",
      "Copying files: 346 files [00:01, 267.50 files/s]\u001b[A\n",
      "Copying files: 388 files [00:01, 301.44 files/s]\u001b[A\n",
      "Copying files: 431 files [00:01, 333.16 files/s]\u001b[A\n",
      "Copying files: 472 files [00:01, 353.06 files/s]\u001b[A\n",
      "Copying files: 512 files [00:01, 325.90 files/s]\u001b[A\n",
      "Copying files: 547 files [00:03, 49.87 files/s] \u001b[A\n",
      "Copying files: 572 files [00:10, 13.21 files/s]\u001b[A\n",
      "Copying files: 590 files [00:15,  9.02 files/s]\u001b[A\n",
      "Copying files: 603 files [00:16,  9.89 files/s]\u001b[A\n",
      "Copying files: 613 files [00:16, 10.88 files/s]\u001b[A\n",
      "Copying files: 621 files [00:17, 11.47 files/s]\u001b[A\n",
      "Copying files: 627 files [00:17, 12.61 files/s]\u001b[A\n",
      "Copying files: 632 files [00:17, 13.73 files/s]\u001b[A\n",
      "Copying files: 637 files [00:17, 35.89 files/s]\u001b[A\n"
     ]
    }
   ],
   "source": [
    "splitfolders.ratio(input_folder, output=\"D:/Individual_Trees_photos/Dataset3\",\n",
    "                   seed=42, ratio=(.7, .2, .1),\n",
    "                   group_prefix=None)"
   ]
  },
  {
   "cell_type": "code",
   "execution_count": null,
   "id": "81742cd2",
   "metadata": {},
   "outputs": [],
   "source": []
  }
 ],
 "metadata": {
  "kernelspec": {
   "display_name": "Python 3 (ipykernel)",
   "language": "python",
   "name": "python3"
  },
  "language_info": {
   "codemirror_mode": {
    "name": "ipython",
    "version": 3
   },
   "file_extension": ".py",
   "mimetype": "text/x-python",
   "name": "python",
   "nbconvert_exporter": "python",
   "pygments_lexer": "ipython3",
   "version": "3.9.7"
  }
 },
 "nbformat": 4,
 "nbformat_minor": 5
}
